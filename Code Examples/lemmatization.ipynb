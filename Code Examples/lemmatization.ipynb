{
 "cells": [
  {
   "cell_type": "code",
   "execution_count": 1,
   "id": "247f06c9",
   "metadata": {},
   "outputs": [],
   "source": [
    "words = [\"running\", \"jumps\", \"easily\",\"fishing\",\"studies\",\"flies\",\"argued\",\"generously\",\"happily\",\"meeting\",\"connected\",\"connection\",\"playing\",\"played\",\"plays\",\"studying\",\"organization\",\"organizations\",\"organ\", \"better\",\"worse\"]"
   ]
  },
  {
   "cell_type": "code",
   "execution_count": 5,
   "id": "c73e282e",
   "metadata": {},
   "outputs": [
    {
     "name": "stderr",
     "output_type": "stream",
     "text": [
      "[nltk_data] Downloading package wordnet to /Users/siraj/nltk_data...\n"
     ]
    },
    {
     "data": {
      "text/plain": [
       "True"
      ]
     },
     "execution_count": 5,
     "metadata": {},
     "output_type": "execute_result"
    }
   ],
   "source": [
    "import nltk\n",
    "nltk.download(\"wordnet\")"
   ]
  },
  {
   "cell_type": "code",
   "execution_count": 2,
   "id": "d1b47b6c",
   "metadata": {},
   "outputs": [],
   "source": [
    "from nltk.stem import WordNetLemmatizer"
   ]
  },
  {
   "cell_type": "code",
   "execution_count": 3,
   "id": "3bb9167c",
   "metadata": {},
   "outputs": [],
   "source": [
    "lemmatizer = WordNetLemmatizer()"
   ]
  },
  {
   "cell_type": "code",
   "execution_count": 7,
   "id": "7d848437",
   "metadata": {},
   "outputs": [
    {
     "data": {
      "text/plain": [
       "'\\nPOS:\\nNoun - n\\nVerb - v\\nadjective - a\\nadverb - r\\n'"
      ]
     },
     "execution_count": 7,
     "metadata": {},
     "output_type": "execute_result"
    }
   ],
   "source": [
    "'''\n",
    "POS:\n",
    "Noun - n\n",
    "Verb - v\n",
    "adjective - a\n",
    "adverb - r\n",
    "'''"
   ]
  },
  {
   "cell_type": "code",
   "execution_count": null,
   "id": "4dd71728",
   "metadata": {},
   "outputs": [
    {
     "name": "stdout",
     "output_type": "stream",
     "text": [
      "going\n",
      "go\n",
      "going\n",
      "going\n"
     ]
    }
   ],
   "source": [
    "print(lemmatizer.lemmatize(\"going\")) # default pos='n'\n",
    "print(lemmatizer.lemmatize(\"going\", pos=\"v\"))\n",
    "print(lemmatizer.lemmatize(\"going\", pos=\"a\"))\n",
    "print(lemmatizer.lemmatize(\"going\", pos=\"r\"))"
   ]
  },
  {
   "cell_type": "code",
   "execution_count": null,
   "id": "890e315b",
   "metadata": {},
   "outputs": [],
   "source": []
  }
 ],
 "metadata": {
  "kernelspec": {
   "display_name": "Python 3",
   "language": "python",
   "name": "python3"
  },
  "language_info": {
   "codemirror_mode": {
    "name": "ipython",
    "version": 3
   },
   "file_extension": ".py",
   "mimetype": "text/x-python",
   "name": "python",
   "nbconvert_exporter": "python",
   "pygments_lexer": "ipython3",
   "version": "3.13.3"
  }
 },
 "nbformat": 4,
 "nbformat_minor": 5
}
