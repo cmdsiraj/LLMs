{
 "cells": [
  {
   "cell_type": "code",
   "execution_count": 2,
   "id": "b2d495bf",
   "metadata": {},
   "outputs": [
    {
     "name": "stderr",
     "output_type": "stream",
     "text": [
      "[nltk_data] Downloading package punkt to /Users/siraj/nltk_data...\n",
      "[nltk_data]   Package punkt is already up-to-date!\n",
      "[nltk_data] Downloading package punkt_tab to /Users/siraj/nltk_data...\n",
      "[nltk_data]   Package punkt_tab is already up-to-date!\n"
     ]
    },
    {
     "data": {
      "text/plain": [
       "True"
      ]
     },
     "execution_count": 2,
     "metadata": {},
     "output_type": "execute_result"
    }
   ],
   "source": [
    "import nltk\n",
    "nltk.download(\"punkt\")\n",
    "nltk.download(\"punkt_tab\")"
   ]
  },
  {
   "cell_type": "code",
   "execution_count": 22,
   "id": "bcc51efa",
   "metadata": {},
   "outputs": [],
   "source": [
    "corpus = \"\"\"This is an example. isn't?.\n",
    "you can check these examples to learn about NLP.\n",
    "with consistency, you can get better!. right.\n",
    "\"\"\""
   ]
  },
  {
   "cell_type": "code",
   "execution_count": 11,
   "id": "845e8b40",
   "metadata": {},
   "outputs": [
    {
     "name": "stdout",
     "output_type": "stream",
     "text": [
      "This is an example. isn't?.\n",
      "you can check these examples to learn about NLP.\n",
      "with consistency, you can get better!\n",
      "\n"
     ]
    }
   ],
   "source": [
    "print(corpus)"
   ]
  },
  {
   "cell_type": "code",
   "execution_count": 17,
   "id": "a53da6fb",
   "metadata": {},
   "outputs": [
    {
     "data": {
      "text/plain": [
       "['This is an example.',\n",
       " \"isn't?.\",\n",
       " 'you can check these examples to learn about NLP.',\n",
       " 'with consistency, you can get better!']"
      ]
     },
     "execution_count": 17,
     "metadata": {},
     "output_type": "execute_result"
    }
   ],
   "source": [
    "# Tokenization\n",
    "# Paragraph ---> Sentence\n",
    "from nltk.tokenize import sent_tokenize\n",
    "\n",
    "sentences = sent_tokenize(corpus)\n",
    "\n",
    "sentences"
   ]
  },
  {
   "cell_type": "code",
   "execution_count": 15,
   "id": "aa596863",
   "metadata": {},
   "outputs": [
    {
     "name": "stdout",
     "output_type": "stream",
     "text": [
      "['This', 'is', 'an', 'example', '.', 'is', \"n't\", '?', '.', 'you', 'can', 'check', 'these', 'examples', 'to', 'learn', 'about', 'NLP', '.', 'with', 'consistency', ',', 'you', 'can', 'get', 'better', '!']\n"
     ]
    }
   ],
   "source": [
    "# Tokenization\n",
    "# Paragaph --> words\n",
    "# Sentences --> Words\n",
    "from nltk.tokenize import word_tokenize\n",
    "\n",
    "words = word_tokenize(corpus)\n",
    "\n",
    "print(words)"
   ]
  },
  {
   "cell_type": "code",
   "execution_count": 19,
   "id": "fb1c7cde",
   "metadata": {},
   "outputs": [
    {
     "name": "stdout",
     "output_type": "stream",
     "text": [
      "['This is an example.']\n",
      "[\"isn't?.\"]\n",
      "['you can check these examples to learn about NLP.']\n",
      "['with consistency, you can get better!']\n"
     ]
    }
   ],
   "source": [
    "for sentence in sentences:\n",
    "    print(sent_tokenize(sentence))"
   ]
  },
  {
   "cell_type": "code",
   "execution_count": 20,
   "id": "b43d0016",
   "metadata": {},
   "outputs": [
    {
     "data": {
      "text/plain": [
       "['This',\n",
       " 'is',\n",
       " 'an',\n",
       " 'example',\n",
       " '.',\n",
       " 'isn',\n",
       " \"'\",\n",
       " 't',\n",
       " '?.',\n",
       " 'you',\n",
       " 'can',\n",
       " 'check',\n",
       " 'these',\n",
       " 'examples',\n",
       " 'to',\n",
       " 'learn',\n",
       " 'about',\n",
       " 'NLP',\n",
       " '.',\n",
       " 'with',\n",
       " 'consistency',\n",
       " ',',\n",
       " 'you',\n",
       " 'can',\n",
       " 'get',\n",
       " 'better',\n",
       " '!']"
      ]
     },
     "execution_count": 20,
     "metadata": {},
     "output_type": "execute_result"
    }
   ],
   "source": [
    "from nltk import wordpunct_tokenize\n",
    "wordpunct_tokenize(corpus)"
   ]
  },
  {
   "cell_type": "code",
   "execution_count": 24,
   "id": "7b331353",
   "metadata": {},
   "outputs": [
    {
     "data": {
      "text/plain": [
       "['This',\n",
       " 'is',\n",
       " 'an',\n",
       " 'example.',\n",
       " 'is',\n",
       " \"n't\",\n",
       " '?',\n",
       " '.',\n",
       " 'you',\n",
       " 'can',\n",
       " 'check',\n",
       " 'these',\n",
       " 'examples',\n",
       " 'to',\n",
       " 'learn',\n",
       " 'about',\n",
       " 'NLP.',\n",
       " 'with',\n",
       " 'consistency',\n",
       " ',',\n",
       " 'you',\n",
       " 'can',\n",
       " 'get',\n",
       " 'better',\n",
       " '!',\n",
       " '.',\n",
       " 'right',\n",
       " '.']"
      ]
     },
     "execution_count": 24,
     "metadata": {},
     "output_type": "execute_result"
    }
   ],
   "source": [
    "from nltk.tokenize import TreebankWordTokenizer\n",
    "\n",
    "tokenizere = TreebankWordTokenizer()\n",
    "\n",
    "tokenizere.tokenize(corpus)\n",
    "\n",
    "# in the treebank tokenizer, pull-stop in not considered as a seperate word except for the last one, where as in the previous method, it was considerd as seperate word."
   ]
  },
  {
   "cell_type": "code",
   "execution_count": null,
   "id": "21d73daa",
   "metadata": {},
   "outputs": [],
   "source": []
  }
 ],
 "metadata": {
  "kernelspec": {
   "display_name": "Python 3",
   "language": "python",
   "name": "python3"
  },
  "language_info": {
   "codemirror_mode": {
    "name": "ipython",
    "version": 3
   },
   "file_extension": ".py",
   "mimetype": "text/x-python",
   "name": "python",
   "nbconvert_exporter": "python",
   "pygments_lexer": "ipython3",
   "version": "3.13.3"
  }
 },
 "nbformat": 4,
 "nbformat_minor": 5
}
