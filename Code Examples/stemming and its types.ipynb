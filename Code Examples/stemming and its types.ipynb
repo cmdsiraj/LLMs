{
 "cells": [
  {
   "cell_type": "code",
   "execution_count": 4,
   "id": "bd248c7b",
   "metadata": {},
   "outputs": [],
   "source": [
    "words = [\"running\", \"jumps\", \"easily\",\"fishing\",\"studies\",\"flies\",\"argued\",\"generously\",\"happily\",\"meeting\",\"connected\",\"connection\",\"playing\",\"played\",\"plays\",\"studying\",\"organization\",\"organizations\",\"organ\", \"better\",\"worse\"]\n"
   ]
  },
  {
   "cell_type": "code",
   "execution_count": 5,
   "id": "82bef113",
   "metadata": {},
   "outputs": [
    {
     "name": "stdout",
     "output_type": "stream",
     "text": [
      "running --> run\n",
      "jumps --> jump\n",
      "easily --> easili\n",
      "fishing --> fish\n",
      "studies --> studi\n",
      "flies --> fli\n",
      "argued --> argu\n",
      "generously --> gener\n",
      "happily --> happili\n",
      "meeting --> meet\n",
      "connected --> connect\n",
      "connection --> connect\n",
      "playing --> play\n",
      "played --> play\n",
      "plays --> play\n",
      "studying --> studi\n",
      "organization --> organ\n",
      "organizations --> organ\n",
      "organ --> organ\n",
      "better --> better\n",
      "worse --> wors\n"
     ]
    }
   ],
   "source": [
    "from nltk.stem import PorterStemmer\n",
    "\n",
    "stemming = PorterStemmer()\n",
    "\n",
    "for word in words:\n",
    "    print(f\"{word} --> {stemming.stem(word)}\")"
   ]
  },
  {
   "cell_type": "markdown",
   "id": "4f19751c",
   "metadata": {},
   "source": [
    "### RegexStemmer"
   ]
  },
  {
   "cell_type": "code",
   "execution_count": 8,
   "id": "d62f6ba8",
   "metadata": {},
   "outputs": [
    {
     "name": "stdout",
     "output_type": "stream",
     "text": [
      "running ---> runn\n",
      "jumps ---> jump\n",
      "easily ---> easily\n",
      "fishing ---> fish\n",
      "studies ---> studie\n",
      "flies ---> flie\n",
      "argued ---> argued\n",
      "generously ---> generously\n",
      "happily ---> happily\n",
      "meeting ---> meet\n",
      "connected ---> connected\n",
      "connection ---> connection\n",
      "playing ---> play\n",
      "played ---> played\n",
      "plays ---> play\n",
      "studying ---> study\n",
      "organization ---> organization\n",
      "organizations ---> organization\n",
      "organ ---> organ\n",
      "better ---> better\n",
      "worse ---> wors\n"
     ]
    }
   ],
   "source": [
    "from nltk.stem import RegexpStemmer\n",
    "reg_stemmer = RegexpStemmer('ing$|s$|e$|able$', min=4)\n",
    "\n",
    "for word in words:\n",
    "    print(f\"{word} ---> {reg_stemmer.stem(word)}\")"
   ]
  },
  {
   "cell_type": "markdown",
   "id": "c20937b2",
   "metadata": {},
   "source": [
    "### Snowball Stemmer"
   ]
  },
  {
   "cell_type": "code",
   "execution_count": 10,
   "id": "8504d2b6",
   "metadata": {},
   "outputs": [
    {
     "name": "stdout",
     "output_type": "stream",
     "text": [
      "running ---> run\n",
      "jumps ---> jump\n",
      "easily ---> easili\n",
      "fishing ---> fish\n",
      "studies ---> studi\n",
      "flies ---> fli\n",
      "argued ---> argu\n",
      "generously ---> generous\n",
      "happily ---> happili\n",
      "meeting ---> meet\n",
      "connected ---> connect\n",
      "connection ---> connect\n",
      "playing ---> play\n",
      "played ---> play\n",
      "plays ---> play\n",
      "studying ---> studi\n",
      "organization ---> organ\n",
      "organizations ---> organ\n",
      "organ ---> organ\n",
      "better ---> better\n",
      "worse ---> wors\n"
     ]
    }
   ],
   "source": [
    "from nltk.stem import SnowballStemmer\n",
    "\n",
    "snowball_stemmer = SnowballStemmer(language=\"english\")\n",
    "\n",
    "for word in words:\n",
    "    print(f\"{word} ---> {snowball_stemmer.stem(word)}\")"
   ]
  },
  {
   "cell_type": "markdown",
   "id": "a70a5cb1",
   "metadata": {},
   "source": [
    "#### Example where snowball perfoms better than porter"
   ]
  },
  {
   "cell_type": "code",
   "execution_count": 11,
   "id": "e3954fd5",
   "metadata": {},
   "outputs": [
    {
     "data": {
      "text/plain": [
       "('fairli', 'sportingli')"
      ]
     },
     "execution_count": 11,
     "metadata": {},
     "output_type": "execute_result"
    }
   ],
   "source": [
    "stemming.stem(\"fairly\"), stemming.stem(\"sportingly\")"
   ]
  },
  {
   "cell_type": "code",
   "execution_count": 12,
   "id": "88ceced7",
   "metadata": {},
   "outputs": [
    {
     "data": {
      "text/plain": [
       "('fair', 'sport')"
      ]
     },
     "execution_count": 12,
     "metadata": {},
     "output_type": "execute_result"
    }
   ],
   "source": [
    "snowball_stemmer.stem(\"fairly\"), snowball_stemmer.stem(\"sportingly\")"
   ]
  },
  {
   "cell_type": "code",
   "execution_count": null,
   "id": "5c3968c7",
   "metadata": {},
   "outputs": [],
   "source": []
  }
 ],
 "metadata": {
  "kernelspec": {
   "display_name": "Python 3",
   "language": "python",
   "name": "python3"
  },
  "language_info": {
   "codemirror_mode": {
    "name": "ipython",
    "version": 3
   },
   "file_extension": ".py",
   "mimetype": "text/x-python",
   "name": "python",
   "nbconvert_exporter": "python",
   "pygments_lexer": "ipython3",
   "version": "3.13.3"
  }
 },
 "nbformat": 4,
 "nbformat_minor": 5
}
