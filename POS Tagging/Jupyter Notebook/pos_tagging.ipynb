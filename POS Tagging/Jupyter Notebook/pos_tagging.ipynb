{
 "cells": [
  {
   "cell_type": "code",
   "execution_count": 1,
   "id": "37dcd82c",
   "metadata": {},
   "outputs": [],
   "source": [
    "import numpy as np\n",
    "import pandas as pd\n",
    "import string\n",
    "from collections import defaultdict\n",
    "import math\n",
    "from my_utils_pos import preprocessing, get_word_tag"
   ]
  },
  {
   "cell_type": "code",
   "execution_count": 2,
   "id": "ae6b9fd2",
   "metadata": {},
   "outputs": [
    {
     "data": {
      "text/plain": [
       "['In\\tIN\\n', 'an\\tDT\\n', 'Oct.\\tNNP\\n', '19\\tCD\\n', 'review\\tNN\\n']"
      ]
     },
     "execution_count": 2,
     "metadata": {},
     "output_type": "execute_result"
    }
   ],
   "source": [
    "# reading training file\n",
    "with open(\"./data/WSJ_02-21.pos\") as f:\n",
    "    training_lines = f.readlines()\n",
    "\n",
    "training_lines[0:5]"
   ]
  },
  {
   "cell_type": "code",
   "execution_count": 3,
   "id": "bdcd6385",
   "metadata": {},
   "outputs": [
    {
     "name": "stdout",
     "output_type": "stream",
     "text": [
      "A few items of the vocabulary list\n",
      "['!', '#', '$', '%', '&', \"'\", \"''\", \"'40s\", \"'60s\", \"'70s\", \"'80s\", \"'86\", \"'90s\", \"'N\", \"'S\", \"'d\", \"'em\", \"'ll\", \"'m\", \"'n'\", \"'re\", \"'s\", \"'til\", \"'ve\", '(', ')', ',', '-', '--', '--n--', '--unk--', '--unk_adj--', '--unk_adv--', '--unk_digit--', '--unk_noun--', '--unk_punct--', '--unk_upper--', '--unk_verb--', '.', '...', '0.01', '0.0108', '0.02', '0.03', '0.05', '0.1', '0.10', '0.12', '0.13', '0.15']\n",
      "\n",
      "A few items at the end of the vocabulary list\n",
      "['yards', 'yardstick', 'year', 'year-ago', 'year-before', 'year-earlier', 'year-end', 'year-on-year', 'year-round', 'year-to-date', 'year-to-year', 'yearlong', 'yearly', 'years', 'yeast', 'yelled', 'yelling', 'yellow', 'yen', 'yes', 'yesterday', 'yet', 'yield', 'yielded', 'yielding', 'yields', 'you', 'young', 'younger', 'youngest', 'youngsters', 'your', 'yourself', 'youth', 'youthful', 'yuppie', 'yuppies', 'zero', 'zero-coupon', 'zeroing', 'zeros', 'zinc', 'zip', 'zombie', 'zone', 'zones', 'zoning', '{', '}', '']\n"
     ]
    }
   ],
   "source": [
    "# preparing dictionary from the training set.\n",
    "\n",
    "# words = [line.split(\"\\t\")[0] for line in training_lines]\n",
    "\n",
    "# freq = defaultdict(int)\n",
    "# for word in words:\n",
    "#     freq[word] += 1\n",
    "\n",
    "# training_vocab_l = [k for k,v in freq.items() if (v>1)]\n",
    "\n",
    "# # training_vocab_l.append('')\n",
    "# # training_vocab_l.append(\"--unk--\")\n",
    "\n",
    "# training_vocab_l.sort()\n",
    "\n",
    "with open(\"./data/hmm_vocab.txt\", 'r') as f:\n",
    "    training_vocab_l = f.read().split('\\n')\n",
    "\n",
    "print(\"A few items of the vocabulary list\")\n",
    "print(training_vocab_l[0:50])\n",
    "print()\n",
    "print(\"A few items at the end of the vocabulary list\")\n",
    "print(training_vocab_l[-50:])"
   ]
  },
  {
   "cell_type": "code",
   "execution_count": 4,
   "id": "b25abe28",
   "metadata": {},
   "outputs": [
    {
     "name": "stdout",
     "output_type": "stream",
     "text": [
      "Vocabulary dictionary, Key is word and value is a unique integer\n",
      " : 0\n",
      "! : 1\n",
      "# : 2\n",
      "$ : 3\n",
      "% : 4\n",
      "& : 5\n",
      "' : 6\n",
      "'' : 7\n",
      "'40s : 8\n",
      "'60s : 9\n",
      "'70s : 10\n",
      "'80s : 11\n",
      "'86 : 12\n",
      "'90s : 13\n",
      "'N : 14\n",
      "'S : 15\n",
      "'d : 16\n",
      "'em : 17\n",
      "'ll : 18\n",
      "'m : 19\n",
      "'n' : 20\n"
     ]
    }
   ],
   "source": [
    "# vocab: dictionary that has index for corresponding words\n",
    "vocab = {}\n",
    "\n",
    "for i, word in enumerate(sorted(training_vocab_l)):\n",
    "    vocab[word] = i\n",
    "\n",
    "print(\"Vocabulary dictionary, Key is word and value is a unique integer\")\n",
    "cnt=0\n",
    "for k,v in vocab.items():\n",
    "    print(f\"{k} : {v}\")\n",
    "    cnt+=1\n",
    "    if cnt>20:\n",
    "        break"
   ]
  },
  {
   "cell_type": "code",
   "execution_count": 5,
   "id": "8b0800f1",
   "metadata": {},
   "outputs": [
    {
     "name": "stdout",
     "output_type": "stream",
     "text": [
      "The length of the preprocessed test corpus:  34199\n",
      "This is a sample of the test_corpus: \n",
      "['The', 'economy', \"'s\", 'temperature', 'will', 'be', 'taken', 'from', 'several', '--unk--']\n"
     ]
    }
   ],
   "source": [
    "_ , prep = preprocessing(vocab, \"./data/test.words\")\n",
    "\n",
    "print('The length of the preprocessed test corpus: ', len(prep))\n",
    "print('This is a sample of the test_corpus: ')\n",
    "print(prep[0:10])"
   ]
  },
  {
   "cell_type": "markdown",
   "id": "15f30468",
   "metadata": {},
   "source": [
    "## Creating Emission, Transition and Tag count dictionaries\n",
    "\n",
    "### Transition Counts\n",
    "- This dictionary will have (prev_tag, tag) as key and the correspnidng tag pair count as value.\n",
    "\n",
    "### Emission Counts\n",
    "- This dictionary will have (tag, word) as key and corresponding pair count as value.\n",
    "\n",
    "### Tag Counts\n",
    "- This has tag as key and its count as value"
   ]
  },
  {
   "cell_type": "code",
   "execution_count": 6,
   "id": "71d0ee70",
   "metadata": {},
   "outputs": [],
   "source": [
    "def create_dictionaries(trainig_corpus, vocab, verbose=True):\n",
    "    emission_counts = defaultdict(int)\n",
    "    transition_counts = defaultdict(int)\n",
    "    tag_counts = defaultdict(int)\n",
    "\n",
    "    i = 0\n",
    "\n",
    "    prev_tag = \"--s--\"\n",
    "\n",
    "    for word_tag in trainig_corpus:\n",
    "\n",
    "        i+=1\n",
    "\n",
    "        if i%5000==0 and verbose:\n",
    "            print(f\"Word Count = {i}\")\n",
    "\n",
    "        word, tag = get_word_tag(word_tag, vocab)\n",
    "\n",
    "        emission_counts[(tag, word)] += 1\n",
    "        transition_counts[(prev_tag, tag)] += 1\n",
    "        tag_counts[tag] += 1\n",
    "\n",
    "        prev_tag = tag\n",
    "    \n",
    "    return emission_counts, transition_counts, tag_counts"
   ]
  },
  {
   "cell_type": "code",
   "execution_count": 7,
   "id": "da94c4b5",
   "metadata": {},
   "outputs": [
    {
     "name": "stdout",
     "output_type": "stream",
     "text": [
      "Word Count = 5000\n",
      "Word Count = 10000\n",
      "Word Count = 15000\n",
      "Word Count = 20000\n",
      "Word Count = 25000\n",
      "Word Count = 30000\n",
      "Word Count = 35000\n",
      "Word Count = 40000\n",
      "Word Count = 45000\n",
      "Word Count = 50000\n",
      "Word Count = 55000\n",
      "Word Count = 60000\n",
      "Word Count = 65000\n",
      "Word Count = 70000\n",
      "Word Count = 75000\n",
      "Word Count = 80000\n",
      "Word Count = 85000\n",
      "Word Count = 90000\n",
      "Word Count = 95000\n",
      "Word Count = 100000\n",
      "Word Count = 105000\n",
      "Word Count = 110000\n",
      "Word Count = 115000\n",
      "Word Count = 120000\n",
      "Word Count = 125000\n",
      "Word Count = 130000\n",
      "Word Count = 135000\n",
      "Word Count = 140000\n",
      "Word Count = 145000\n",
      "Word Count = 150000\n",
      "Word Count = 155000\n",
      "Word Count = 160000\n",
      "Word Count = 165000\n",
      "Word Count = 170000\n",
      "Word Count = 175000\n",
      "Word Count = 180000\n",
      "Word Count = 185000\n",
      "Word Count = 190000\n",
      "Word Count = 195000\n",
      "Word Count = 200000\n",
      "Word Count = 205000\n",
      "Word Count = 210000\n",
      "Word Count = 215000\n",
      "Word Count = 220000\n",
      "Word Count = 225000\n",
      "Word Count = 230000\n",
      "Word Count = 235000\n",
      "Word Count = 240000\n",
      "Word Count = 245000\n",
      "Word Count = 250000\n",
      "Word Count = 255000\n",
      "Word Count = 260000\n",
      "Word Count = 265000\n",
      "Word Count = 270000\n",
      "Word Count = 275000\n",
      "Word Count = 280000\n",
      "Word Count = 285000\n",
      "Word Count = 290000\n",
      "Word Count = 295000\n",
      "Word Count = 300000\n",
      "Word Count = 305000\n",
      "Word Count = 310000\n",
      "Word Count = 315000\n",
      "Word Count = 320000\n",
      "Word Count = 325000\n",
      "Word Count = 330000\n",
      "Word Count = 335000\n",
      "Word Count = 340000\n",
      "Word Count = 345000\n",
      "Word Count = 350000\n",
      "Word Count = 355000\n",
      "Word Count = 360000\n",
      "Word Count = 365000\n",
      "Word Count = 370000\n",
      "Word Count = 375000\n",
      "Word Count = 380000\n",
      "Word Count = 385000\n",
      "Word Count = 390000\n",
      "Word Count = 395000\n",
      "Word Count = 400000\n",
      "Word Count = 405000\n",
      "Word Count = 410000\n",
      "Word Count = 415000\n",
      "Word Count = 420000\n",
      "Word Count = 425000\n",
      "Word Count = 430000\n",
      "Word Count = 435000\n",
      "Word Count = 440000\n",
      "Word Count = 445000\n",
      "Word Count = 450000\n",
      "Word Count = 455000\n",
      "Word Count = 460000\n",
      "Word Count = 465000\n",
      "Word Count = 470000\n",
      "Word Count = 475000\n",
      "Word Count = 480000\n",
      "Word Count = 485000\n",
      "Word Count = 490000\n",
      "Word Count = 495000\n",
      "Word Count = 500000\n",
      "Word Count = 505000\n",
      "Word Count = 510000\n",
      "Word Count = 515000\n",
      "Word Count = 520000\n",
      "Word Count = 525000\n",
      "Word Count = 530000\n",
      "Word Count = 535000\n",
      "Word Count = 540000\n",
      "Word Count = 545000\n",
      "Word Count = 550000\n",
      "Word Count = 555000\n",
      "Word Count = 560000\n",
      "Word Count = 565000\n",
      "Word Count = 570000\n",
      "Word Count = 575000\n",
      "Word Count = 580000\n",
      "Word Count = 585000\n",
      "Word Count = 590000\n",
      "Word Count = 595000\n",
      "Word Count = 600000\n",
      "Word Count = 605000\n",
      "Word Count = 610000\n",
      "Word Count = 615000\n",
      "Word Count = 620000\n",
      "Word Count = 625000\n",
      "Word Count = 630000\n",
      "Word Count = 635000\n",
      "Word Count = 640000\n",
      "Word Count = 645000\n",
      "Word Count = 650000\n",
      "Word Count = 655000\n",
      "Word Count = 660000\n",
      "Word Count = 665000\n",
      "Word Count = 670000\n",
      "Word Count = 675000\n",
      "Word Count = 680000\n",
      "Word Count = 685000\n",
      "Word Count = 690000\n",
      "Word Count = 695000\n",
      "Word Count = 700000\n",
      "Word Count = 705000\n",
      "Word Count = 710000\n",
      "Word Count = 715000\n",
      "Word Count = 720000\n",
      "Word Count = 725000\n",
      "Word Count = 730000\n",
      "Word Count = 735000\n",
      "Word Count = 740000\n",
      "Word Count = 745000\n",
      "Word Count = 750000\n",
      "Word Count = 755000\n",
      "Word Count = 760000\n",
      "Word Count = 765000\n",
      "Word Count = 770000\n",
      "Word Count = 775000\n",
      "Word Count = 780000\n",
      "Word Count = 785000\n",
      "Word Count = 790000\n",
      "Word Count = 795000\n",
      "Word Count = 800000\n",
      "Word Count = 805000\n",
      "Word Count = 810000\n",
      "Word Count = 815000\n",
      "Word Count = 820000\n",
      "Word Count = 825000\n",
      "Word Count = 830000\n",
      "Word Count = 835000\n",
      "Word Count = 840000\n",
      "Word Count = 845000\n",
      "Word Count = 850000\n",
      "Word Count = 855000\n",
      "Word Count = 860000\n",
      "Word Count = 865000\n",
      "Word Count = 870000\n",
      "Word Count = 875000\n",
      "Word Count = 880000\n",
      "Word Count = 885000\n",
      "Word Count = 890000\n",
      "Word Count = 895000\n",
      "Word Count = 900000\n",
      "Word Count = 905000\n",
      "Word Count = 910000\n",
      "Word Count = 915000\n",
      "Word Count = 920000\n",
      "Word Count = 925000\n",
      "Word Count = 930000\n",
      "Word Count = 935000\n",
      "Word Count = 940000\n",
      "Word Count = 945000\n",
      "Word Count = 950000\n",
      "Word Count = 955000\n",
      "Word Count = 960000\n",
      "Word Count = 965000\n",
      "Word Count = 970000\n",
      "Word Count = 975000\n",
      "Word Count = 980000\n",
      "Word Count = 985000\n"
     ]
    }
   ],
   "source": [
    "emission_counts, transition_counts, tag_counts = create_dictionaries(training_lines, vocab=vocab)"
   ]
  },
  {
   "cell_type": "code",
   "execution_count": 8,
   "id": "f76f2478",
   "metadata": {},
   "outputs": [
    {
     "name": "stdout",
     "output_type": "stream",
     "text": [
      "Number of POS tags (number of 'states'): 46\n",
      "View these POS tags (states)\n",
      "['#', '$', \"''\", '(', ')', ',', '--s--', '.', ':', 'CC', 'CD', 'DT', 'EX', 'FW', 'IN', 'JJ', 'JJR', 'JJS', 'LS', 'MD', 'NN', 'NNP', 'NNPS', 'NNS', 'PDT', 'POS', 'PRP', 'PRP$', 'RB', 'RBR', 'RBS', 'RP', 'SYM', 'TO', 'UH', 'VB', 'VBD', 'VBG', 'VBN', 'VBP', 'VBZ', 'WDT', 'WP', 'WP$', 'WRB', '``']\n"
     ]
    }
   ],
   "source": [
    "states = sorted(tag_counts.keys())\n",
    "print(f\"Number of POS tags (number of 'states'): {len(states)}\")\n",
    "print(\"View these POS tags (states)\")\n",
    "print(states)"
   ]
  },
  {
   "cell_type": "code",
   "execution_count": 9,
   "id": "2a09c79c",
   "metadata": {},
   "outputs": [
    {
     "name": "stdout",
     "output_type": "stream",
     "text": [
      "transition examples: \n",
      "(('--s--', 'IN'), 5050)\n",
      "(('IN', 'DT'), 32364)\n",
      "(('DT', 'NNP'), 9044)\n",
      "\n",
      "emission examples: \n",
      "(('DT', 'any'), 721)\n",
      "(('NN', 'decrease'), 7)\n",
      "(('NN', 'insider-trading'), 5)\n",
      "\n",
      "ambiguous word example: \n",
      "('RB', 'back') 304\n",
      "('VB', 'back') 20\n",
      "('RP', 'back') 84\n",
      "('JJ', 'back') 25\n",
      "('NN', 'back') 29\n",
      "('VBP', 'back') 4\n"
     ]
    }
   ],
   "source": [
    "print(\"transition examples: \")\n",
    "for ex in list(transition_counts.items())[:3]:\n",
    "    print(ex)\n",
    "print()\n",
    "\n",
    "print(\"emission examples: \")\n",
    "for ex in list(emission_counts.items())[200:203]:\n",
    "    print (ex)\n",
    "print()\n",
    "\n",
    "print(\"ambiguous word example: \")\n",
    "for tup,cnt in emission_counts.items():\n",
    "    if tup[1] == 'back': print (tup, cnt) "
   ]
  },
  {
   "cell_type": "markdown",
   "id": "b8fc00f7",
   "metadata": {},
   "source": [
    "# Hidden Markov Models"
   ]
  },
  {
   "cell_type": "markdown",
   "id": "08b2ae7b",
   "metadata": {},
   "source": [
    "Creating Transition and Emission matrices"
   ]
  },
  {
   "cell_type": "code",
   "execution_count": 10,
   "id": "168ae5ad",
   "metadata": {},
   "outputs": [],
   "source": [
    "def create_transition_matrix(alpha, tag_counts, transition_counts):\n",
    "\n",
    "    all_tags = sorted(tag_counts.keys())\n",
    "\n",
    "    num_tags = len(all_tags)\n",
    "\n",
    "    A = np.zeros((num_tags, num_tags))\n",
    "\n",
    "    trans_keys = set(transition_counts.keys())\n",
    "\n",
    "    for i in range(num_tags):\n",
    "        for j in range(num_tags):\n",
    "            count = 0\n",
    "\n",
    "            key = (all_tags[i], all_tags[j])\n",
    "\n",
    "            if key in trans_keys:\n",
    "                count = transition_counts[key]\n",
    "            \n",
    "            count_prev_tag = tag_counts[all_tags[i]]\n",
    "\n",
    "            A[i,j] = (count+alpha)/(count_prev_tag+num_tags*alpha)\n",
    "    \n",
    "    return A"
   ]
  },
  {
   "cell_type": "code",
   "execution_count": 11,
   "id": "0d35072c",
   "metadata": {},
   "outputs": [
    {
     "name": "stdout",
     "output_type": "stream",
     "text": [
      "A at row 0, col 0: 0.000007040\n",
      "A at row 3, col 1: 0.1691\n",
      "View a subset of transition matrix A\n",
      "              RBS            RP           SYM        TO            UH\n",
      "RBS  2.217069e-06  2.217069e-06  2.217069e-06  0.008870  2.217069e-06\n",
      "RP   3.756509e-07  7.516775e-04  3.756509e-07  0.051089  3.756509e-07\n",
      "SYM  1.722772e-05  1.722772e-05  1.722772e-05  0.000017  1.722772e-05\n",
      "TO   4.477336e-05  4.472863e-08  4.472863e-08  0.000090  4.477336e-05\n",
      "UH   1.030439e-05  1.030439e-05  1.030439e-05  0.061837  3.092348e-02\n"
     ]
    }
   ],
   "source": [
    "alpha = 0.001\n",
    "A = create_transition_matrix(alpha, tag_counts, transition_counts)\n",
    "\n",
    "print(f\"A at row 0, col 0: {A[0,0]:.9f}\")\n",
    "print(f\"A at row 3, col 1: {A[3,1]:.4f}\")\n",
    "\n",
    "print(\"View a subset of transition matrix A\")\n",
    "A_sub = pd.DataFrame(A[30:35,30:35], index=states[30:35], columns = states[30:35] )\n",
    "print(A_sub)"
   ]
  },
  {
   "cell_type": "code",
   "execution_count": 12,
   "id": "2bf0bb8c",
   "metadata": {},
   "outputs": [],
   "source": [
    "def create_emission_matrix(alpha, tag_counts, emission_counts, vocab: list): # vocab is list\n",
    "\n",
    "    num_tags = len(tag_counts)\n",
    "    num_words = len(vocab)\n",
    "\n",
    "    all_tags = sorted(tag_counts.keys())\n",
    "\n",
    "    B = np.zeros((num_tags, num_words))\n",
    "\n",
    "    emis_keys = set(emission_counts.keys())\n",
    "\n",
    "    for i in range(num_tags):\n",
    "        for j in range(num_words):\n",
    "            count = 0\n",
    "\n",
    "            key = (all_tags[i], vocab[j])\n",
    "\n",
    "            if key in emis_keys:\n",
    "                count = emission_counts[key]\n",
    "            \n",
    "            count_tag = tag_counts[all_tags[i]]\n",
    "\n",
    "            B[i,j] = (count+alpha)/(count_tag+alpha*num_words)\n",
    "    \n",
    "    return B"
   ]
  },
  {
   "cell_type": "code",
   "execution_count": 13,
   "id": "e724dc93",
   "metadata": {},
   "outputs": [
    {
     "name": "stdout",
     "output_type": "stream",
     "text": [
      "View Matrix position at row 0, column 0: 0.000006032\n",
      "View Matrix position at row 3, column 1: 0.000000720\n",
      "              725      adroitly     engineers      promoted       synergy\n",
      "CD   8.201296e-05  2.732854e-08  2.732854e-08  2.732854e-08  2.732854e-08\n",
      "NN   7.521128e-09  7.521128e-09  7.521128e-09  7.521128e-09  2.257091e-05\n",
      "NNS  1.670013e-08  1.670013e-08  4.676203e-04  1.670013e-08  1.670013e-08\n",
      "VB   3.779036e-08  3.779036e-08  3.779036e-08  3.779036e-08  3.779036e-08\n",
      "RB   3.226454e-08  6.456135e-05  3.226454e-08  3.226454e-08  3.226454e-08\n",
      "RP   3.723317e-07  3.723317e-07  3.723317e-07  3.723317e-07  3.723317e-07\n"
     ]
    }
   ],
   "source": [
    " #creating your emission probability matrix. this takes a few minutes to run. \n",
    "alpha = 0.001\n",
    "B = create_emission_matrix(alpha, tag_counts, emission_counts, list(vocab))\n",
    "\n",
    "print(f\"View Matrix position at row 0, column 0: {B[0,0]:.9f}\")\n",
    "print(f\"View Matrix position at row 3, column 1: {B[3,1]:.9f}\")\n",
    "\n",
    "# Try viewing emissions for a few words in a sample dataframe\n",
    "cidx  = ['725','adroitly','engineers', 'promoted', 'synergy']\n",
    "\n",
    "# Get the integer ID for each word\n",
    "cols = [vocab[a] for a in cidx]\n",
    "\n",
    "# Choose POS tags to show in a sample dataframe\n",
    "rvals =['CD','NN','NNS', 'VB','RB','RP']\n",
    "\n",
    "# For each POS tag, get the row number from the 'states' list\n",
    "rows = [states.index(a) for a in rvals]\n",
    "\n",
    "# Get the emissions for the sample of words, and the sample of POS tags\n",
    "B_sub = pd.DataFrame(B[np.ix_(rows,cols)], index=rvals, columns = cidx )\n",
    "print(B_sub)"
   ]
  },
  {
   "cell_type": "markdown",
   "id": "f0416285",
   "metadata": {},
   "source": [
    "## Vitirbi Algorithm"
   ]
  },
  {
   "cell_type": "code",
   "execution_count": 14,
   "id": "14887317",
   "metadata": {},
   "outputs": [],
   "source": [
    "def initialize(states, tag_counts, A, B, corpus, vocab):\n",
    "    num_tags = len(tag_counts.keys())\n",
    "\n",
    "    best_probs = np.zeros((num_tags, len(corpus)))\n",
    "\n",
    "    best_paths = np.zeros((num_tags, len(corpus)), dtype=int)\n",
    "\n",
    "    s_idx = states.index(\"--s--\")\n",
    "\n",
    "    for i in range(num_tags):\n",
    "\n",
    "        if A[s_idx, i] == 0:\n",
    "            best_probs[i,0] = float('-inf')\n",
    "        else:\n",
    "            best_probs[i,0] = math.log(A[s_idx, i])+math.log(B[i, vocab[corpus[0]]])\n",
    "    \n",
    "    return best_probs, best_paths"
   ]
  },
  {
   "cell_type": "code",
   "execution_count": 15,
   "id": "ae05610a",
   "metadata": {},
   "outputs": [],
   "source": [
    "best_probs, best_paths = initialize(states, tag_counts, A, B, prep, vocab)"
   ]
  },
  {
   "cell_type": "code",
   "execution_count": 16,
   "id": "eb164ed2",
   "metadata": {},
   "outputs": [
    {
     "name": "stdout",
     "output_type": "stream",
     "text": [
      "best_probs[0,0]: -22.6098\n",
      "best_paths[2,3]: 0.0000\n"
     ]
    }
   ],
   "source": [
    "print(f\"best_probs[0,0]: {best_probs[0,0]:.4f}\")\n",
    "print(f\"best_paths[2,3]: {best_paths[2,3]:.4f}\")"
   ]
  },
  {
   "cell_type": "code",
   "execution_count": 17,
   "id": "5ab79827",
   "metadata": {},
   "outputs": [],
   "source": [
    "def forward(A, B, best_probs, best_paths, vocab, corpus):\n",
    "\n",
    "    num_tags = best_probs.shape[0]\n",
    "\n",
    "    for i in range(1, len(corpus)):\n",
    "\n",
    "        for j in range(num_tags):\n",
    "\n",
    "            best_prob_i = float('-inf')\n",
    "            best_path_i = None\n",
    "\n",
    "            for k in range(num_tags):\n",
    "                prob = best_probs[k, i-1] + math.log(A[k, j]) + math.log(B[j, vocab[corpus[i]]])\n",
    "\n",
    "                if prob > best_prob_i:\n",
    "                    best_prob_i = prob\n",
    "                    best_path_i = k\n",
    "            \n",
    "            best_probs[j, i] = best_prob_i\n",
    "            best_paths[j, i] = best_path_i\n",
    "    \n",
    "    return best_probs, best_paths"
   ]
  },
  {
   "cell_type": "code",
   "execution_count": 18,
   "id": "3e7b1cce",
   "metadata": {},
   "outputs": [],
   "source": [
    "best_probs, best_paths = forward(A, B, best_probs, best_paths, vocab, prep)"
   ]
  },
  {
   "cell_type": "code",
   "execution_count": 19,
   "id": "9d225e1d",
   "metadata": {},
   "outputs": [
    {
     "name": "stdout",
     "output_type": "stream",
     "text": [
      "best_probs[0,1]: -24.7822\n",
      "best_probs[0,4]: -49.5601\n"
     ]
    }
   ],
   "source": [
    "print(f\"best_probs[0,1]: {best_probs[0,1]:.4f}\") \n",
    "print(f\"best_probs[0,4]: {best_probs[0,4]:.4f}\") "
   ]
  },
  {
   "cell_type": "code",
   "execution_count": 20,
   "id": "598ed03c",
   "metadata": {},
   "outputs": [
    {
     "data": {
      "text/plain": [
       "(46, 34199)"
      ]
     },
     "execution_count": 20,
     "metadata": {},
     "output_type": "execute_result"
    }
   ],
   "source": [
    "best_paths.shape"
   ]
  },
  {
   "cell_type": "code",
   "execution_count": 21,
   "id": "f56f4c27",
   "metadata": {},
   "outputs": [],
   "source": [
    "def backward(best_probs, best_paths, corpus, states):\n",
    "    \n",
    "    m = best_paths.shape[1]\n",
    "\n",
    "    z = [None] * m\n",
    "\n",
    "    num_tags = best_probs.shape[0]\n",
    "\n",
    "    best_prob_for_last_word = float('-inf')\n",
    "\n",
    "    pred = [None] * m\n",
    "\n",
    "    for k in range(num_tags):\n",
    "        if best_probs[k, -1] > best_prob_for_last_word:\n",
    "            best_prob_for_last_word = best_probs[k, -1]\n",
    "            z[m-1] = k\n",
    "    \n",
    "    pred[m-1] = states[k]\n",
    "\n",
    "    for i in range(len(corpus)-1, -1, -1):\n",
    "        pos_tag_for_word_i = best_paths[np.argmax(best_probs[:,i]), i]\n",
    "\n",
    "        z[i-1] = best_paths[pos_tag_for_word_i, i]\n",
    "\n",
    "        pred[i-1] = states[pos_tag_for_word_i]\n",
    "\n",
    "    \n",
    "    return pred"
   ]
  },
  {
   "cell_type": "code",
   "execution_count": null,
   "id": "169d01f3",
   "metadata": {},
   "outputs": [],
   "source": []
  }
 ],
 "metadata": {
  "kernelspec": {
   "display_name": "Python 3",
   "language": "python",
   "name": "python3"
  },
  "language_info": {
   "codemirror_mode": {
    "name": "ipython",
    "version": 3
   },
   "file_extension": ".py",
   "mimetype": "text/x-python",
   "name": "python",
   "nbconvert_exporter": "python",
   "pygments_lexer": "ipython3",
   "version": "3.13.3"
  }
 },
 "nbformat": 4,
 "nbformat_minor": 5
}
